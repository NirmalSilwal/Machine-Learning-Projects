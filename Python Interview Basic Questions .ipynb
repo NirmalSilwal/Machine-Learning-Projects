{
 "cells": [
  {
   "cell_type": "code",
   "execution_count": 1,
   "metadata": {},
   "outputs": [],
   "source": [
    "import numpy as np\n",
    "import pandas as pd"
   ]
  },
  {
   "cell_type": "code",
   "execution_count": null,
   "metadata": {},
   "outputs": [],
   "source": [
    "import os \n",
    "import pandas as pd\n",
    "import numpy as np\n",
    "import matplotlib as mlt\n",
    "\n",
    "to load csv data in python:\n",
    "df = pd.read_csv('data.csv', sep=',')\n",
    "\n",
    "to load excel data in python:\n",
    "df = pd.read_excel('data.xlsx')\n",
    "\n",
    "getting column names of the dataset\n",
    "df.columns\n",
    "\n",
    "getting the structure of the dataset\n",
    "type(df)\n",
    "\n",
    "getting number of variables and observations\n",
    "df.shape\n",
    "\n",
    "getting first few rows of dataset\n",
    "df.head()\n",
    "\n",
    "getting last few rows of dataset\n",
    "df.tail()\n",
    "\n",
    "delete dataframe\n",
    "del df\n",
    "\n",
    "getting first 10 rows and first 4 columns of the dataset\n",
    "df.iloc[:10, :4]\n",
    "\n",
    "select first 4 columns and all rows\n",
    "df.iloc[:, :4]\n",
    "\n",
    "get unique values in the column\n",
    "df['cyl'].unique()\n",
    "\n",
    "count of unique values in the column\n",
    "df['cyl'].nunique()\n",
    "\n",
    "distribution of unique values in the column\n",
    "df['cyl'].value_counts()\n",
    "\n",
    "summary of a variable\n",
    "df['cyl'].describe()\n",
    "\n",
    "to find statistical  quantities\n",
    "\n",
    "mean\n",
    "df['cyl'].mean()\n",
    "\n",
    "median\n",
    "df['cyl'].median()\n",
    "\n",
    "variance\n",
    "df['cyl'].var()\n",
    "\n",
    "standard deviation\n",
    "df['cyl'].std()\n",
    "\n",
    "add all values of column\n",
    "df['cyl'].sum()\n",
    "\n",
    "writing a csv file\n",
    "df.to_csv(\"practice.csv\", index =False)\n",
    "\n",
    "writing a excel file\n",
    "df.to_excel(\"practice.xlsx\", index = False)"
   ]
  },
  {
   "cell_type": "code",
   "execution_count": 3,
   "metadata": {},
   "outputs": [
    {
     "data": {
      "text/plain": [
       "'C:\\\\Users\\\\Nirmal Silwal\\\\nirmal notebook'"
      ]
     },
     "execution_count": 3,
     "metadata": {},
     "output_type": "execute_result"
    }
   ],
   "source": [
    "pwd"
   ]
  },
  {
   "cell_type": "code",
   "execution_count": 4,
   "metadata": {},
   "outputs": [],
   "source": [
    "import os"
   ]
  },
  {
   "cell_type": "code",
   "execution_count": 5,
   "metadata": {},
   "outputs": [
    {
     "data": {
      "text/plain": [
       "<function nt.getcwd()>"
      ]
     },
     "execution_count": 5,
     "metadata": {},
     "output_type": "execute_result"
    }
   ],
   "source": [
    "os.getcwd"
   ]
  },
  {
   "cell_type": "code",
   "execution_count": null,
   "metadata": {},
   "outputs": [],
   "source": []
  },
  {
   "cell_type": "code",
   "execution_count": null,
   "metadata": {},
   "outputs": [],
   "source": []
  }
 ],
 "metadata": {
  "kernelspec": {
   "display_name": "Python 3",
   "language": "python",
   "name": "python3"
  },
  "language_info": {
   "codemirror_mode": {
    "name": "ipython",
    "version": 3
   },
   "file_extension": ".py",
   "mimetype": "text/x-python",
   "name": "python",
   "nbconvert_exporter": "python",
   "pygments_lexer": "ipython3",
   "version": "3.7.0"
  }
 },
 "nbformat": 4,
 "nbformat_minor": 2
}
