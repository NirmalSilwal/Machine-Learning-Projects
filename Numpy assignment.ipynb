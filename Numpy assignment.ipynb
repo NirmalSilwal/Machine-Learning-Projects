{
 "cells": [
  {
   "cell_type": "code",
   "execution_count": 1,
   "metadata": {},
   "outputs": [],
   "source": [
    "import numpy as np"
   ]
  },
  {
   "cell_type": "code",
   "execution_count": 9,
   "metadata": {},
   "outputs": [
    {
     "name": "stdout",
     "output_type": "stream",
     "text": [
      "[0 1 2 3 4 5 6 7 8 9]\n",
      "<class 'numpy.ndarray'>\n",
      "1\n",
      "(10,)\n"
     ]
    }
   ],
   "source": [
    "v=np.array([0,1,2,3,4,5,6,7,8,9])\n",
    "print(v)\n",
    "print(type(v))\n",
    "print(v.ndim)\n",
    "print(np.shape(v))"
   ]
  },
  {
   "cell_type": "code",
   "execution_count": 15,
   "metadata": {},
   "outputs": [
    {
     "name": "stdout",
     "output_type": "stream",
     "text": [
      "[1 3 5 7 9]\n"
     ]
    }
   ],
   "source": [
    "odd=v[1::2]\n",
    "print(odd)"
   ]
  },
  {
   "cell_type": "code",
   "execution_count": 16,
   "metadata": {},
   "outputs": [
    {
     "name": "stdout",
     "output_type": "stream",
     "text": [
      "[9 8 7 6 5 4 3 2 1 0]\n"
     ]
    }
   ],
   "source": [
    "backward=v[::-1]\n",
    "print(backward)"
   ]
  },
  {
   "cell_type": "code",
   "execution_count": 17,
   "metadata": {},
   "outputs": [
    {
     "name": "stdout",
     "output_type": "stream",
     "text": [
      "200\n"
     ]
    }
   ],
   "source": [
    "a = np.array([1, 2, 3, 4, 5]) \n",
    "b = a[1:4] \n",
    "b[0] = 200 \n",
    "print(a[1])"
   ]
  },
  {
   "cell_type": "code",
   "execution_count": 74,
   "metadata": {},
   "outputs": [
    {
     "name": "stdout",
     "output_type": "stream",
     "text": [
      "[[ 1  2  3]\n",
      " [ 4  5  6]\n",
      " [ 7  8  9]\n",
      " [10 11 12]]\n",
      "dimension is  2\n"
     ]
    }
   ],
   "source": [
    "m=np.array([[1,2,3],[4,5,6],[7,8,9],[10,11,12]])\n",
    "print(m)\n",
    "print('dimension is ',m.ndim)"
   ]
  },
  {
   "cell_type": "code",
   "execution_count": 75,
   "metadata": {},
   "outputs": [
    {
     "name": "stdout",
     "output_type": "stream",
     "text": [
      "[[ 3  2  1]\n",
      " [ 6  5  4]\n",
      " [ 9  8  7]\n",
      " [12 11 10]]\n"
     ]
    }
   ],
   "source": [
    "reverse=m[:,::-1]\n",
    "print(reverse)"
   ]
  },
  {
   "cell_type": "code",
   "execution_count": 80,
   "metadata": {},
   "outputs": [
    {
     "name": "stdout",
     "output_type": "stream",
     "text": [
      "[[10 11 12]\n",
      " [ 7  8  9]\n",
      " [ 4  5  6]\n",
      " [ 1  2  3]]\n"
     ]
    }
   ],
   "source": [
    "row=m[::-1]\n",
    "print(row)"
   ]
  },
  {
   "cell_type": "code",
   "execution_count": null,
   "metadata": {},
   "outputs": [
    {
     "name": "stdout",
     "output_type": "stream",
     "text": [
      "[[ 1  2  3]\n",
      " [ 4  5  6]\n",
      " [ 7  8  9]\n",
      " [10 11 12]]\n"
     ]
    }
   ],
   "source": [
    "print(m)"
   ]
  },
  {
   "cell_type": "code",
   "execution_count": 94,
   "metadata": {},
   "outputs": [
    {
     "name": "stdout",
     "output_type": "stream",
     "text": [
      "[[10 11 12]\n",
      " [ 7  8  9]\n",
      " [ 4  5  6]\n",
      " [ 1  2  3]]\n",
      "******************\n",
      "[[12 11 10]\n",
      " [ 9  8  7]\n",
      " [ 6  5  4]\n",
      " [ 3  2  1]]\n"
     ]
    }
   ],
   "source": [
    "rev=m[::-1]\n",
    "print(rev)\n",
    "print('******************')\n",
    "rev2=rev[:,::-1]\n",
    "print(rev2)"
   ]
  },
  {
   "cell_type": "code",
   "execution_count": 96,
   "metadata": {},
   "outputs": [
    {
     "name": "stdout",
     "output_type": "stream",
     "text": [
      "[[12 11 10]\n",
      " [ 9  8  7]\n",
      " [ 6  5  4]\n",
      " [ 3  2  1]]\n"
     ]
    }
   ],
   "source": [
    "c=m[::-1,::-1]\n",
    "print(c)"
   ]
  },
  {
   "cell_type": "code",
   "execution_count": 104,
   "metadata": {},
   "outputs": [
    {
     "name": "stdout",
     "output_type": "stream",
     "text": [
      "[[ 0  0  1  1  1]\n",
      " [ 0  1  2  3  0]\n",
      " [ 0  4  5  6  0]\n",
      " [ 0  7  8  9  0]\n",
      " [ 0 10 11 12  0]\n",
      " [ 2  2  2  2  2]]\n"
     ]
    }
   ],
   "source": [
    "q=np.array([[0,0,1,1,1],[0,1,2,3,0],[0,4,5,6,0],[0,7,8,9,0],[0,10,11,12,0],[2,2,2,2,2]])\n",
    "print(q)"
   ]
  },
  {
   "cell_type": "code",
   "execution_count": 109,
   "metadata": {},
   "outputs": [
    {
     "name": "stdout",
     "output_type": "stream",
     "text": [
      "[[ 0  1  2  3  0]\n",
      " [ 0  4  5  6  0]\n",
      " [ 0  7  8  9  0]\n",
      " [ 0 10 11 12  0]]\n",
      "*********************\n",
      "[[ 1  2  3]\n",
      " [ 4  5  6]\n",
      " [ 7  8  9]\n",
      " [10 11 12]]\n"
     ]
    }
   ],
   "source": [
    "cut=q[1:-1]\n",
    "print(cut)\n",
    "morecut=cut[:,1:-1]\n",
    "print('*********************')\n",
    "print(morecut)"
   ]
  },
  {
   "cell_type": "code",
   "execution_count": 111,
   "metadata": {},
   "outputs": [
    {
     "name": "stdout",
     "output_type": "stream",
     "text": [
      "[[ 1  2  3]\n",
      " [ 4  5  6]\n",
      " [ 7  8  9]\n",
      " [10 11 12]]\n",
      "2\n"
     ]
    }
   ],
   "source": [
    "cutting=q[1:-1,1:-1]\n",
    "print(cutting)\n",
    "print(cutting.ndim)"
   ]
  },
  {
   "cell_type": "markdown",
   "metadata": {},
   "source": [
    "# part 2"
   ]
  },
  {
   "cell_type": "code",
   "execution_count": 112,
   "metadata": {},
   "outputs": [],
   "source": [
    "dt = np.dtype([('country', 'S20'), ('density', 'i4'), ('area', 'i4'), ('population', 'i4')])"
   ]
  },
  {
   "cell_type": "code",
   "execution_count": 133,
   "metadata": {},
   "outputs": [
    {
     "name": "stdout",
     "output_type": "stream",
     "text": [
      "[('id', '<i4'), ('price', '<i4')]\n",
      "int32\n",
      "int32\n"
     ]
    }
   ],
   "source": [
    "product = np.dtype([('id', np.int32),('price', 'i4')])\n",
    "print(product)\n",
    "print(product['price'])\n",
    "print(product['id'])"
   ]
  },
  {
   "cell_type": "code",
   "execution_count": 143,
   "metadata": {},
   "outputs": [
    {
     "name": "stdout",
     "output_type": "stream",
     "text": [
      "[(1, 100) (2, 200) (3, 300) (4, 400)]\n",
      "[(1, 100) (2, 200) (3, 300) (4, 400) (5, 500) (6, 600) (7, 700) (8, 800)]\n"
     ]
    }
   ],
   "source": [
    "product = np.dtype([('id', np.int32),('price', 'i4')])\n",
    "data=np.array([(1,100),(2,200),(3,300),(4,400),(5,500),(6,600),(7,700),(8,800)],dtype=product)\n",
    "print(data[:4])\n",
    "print(data)"
   ]
  },
  {
   "cell_type": "code",
   "execution_count": 144,
   "metadata": {},
   "outputs": [
    {
     "name": "stdout",
     "output_type": "stream",
     "text": [
      "[1 2 3 4 5 6 7 8]\n"
     ]
    }
   ],
   "source": [
    "print(data['id'])"
   ]
  },
  {
   "cell_type": "code",
   "execution_count": 145,
   "metadata": {},
   "outputs": [
    {
     "name": "stdout",
     "output_type": "stream",
     "text": [
      "[100 200 300 400 500 600 700 800]\n"
     ]
    }
   ],
   "source": [
    "print(data['price'])"
   ]
  },
  {
   "cell_type": "code",
   "execution_count": 151,
   "metadata": {},
   "outputs": [
    {
     "name": "stdout",
     "output_type": "stream",
     "text": [
      "(1, 100)\n",
      "300\n"
     ]
    }
   ],
   "source": [
    "print(data[0])\n",
    "print(data['price'][2])"
   ]
  },
  {
   "cell_type": "code",
   "execution_count": 154,
   "metadata": {},
   "outputs": [
    {
     "name": "stdout",
     "output_type": "stream",
     "text": [
      "(45765, 439.93)\n",
      "[34765 45765 99661 12129]\n",
      "344.19\n",
      "[(34765, 603.76) (45765, 439.93) (99661, 344.19) (12129, 129.39)]\n"
     ]
    }
   ],
   "source": [
    "import numpy as np\n",
    "mytype = [('productID', np.int32), ('price', np.float64)]\n",
    "stock = np.array([(34765, 603.76), \n",
    "                  (45765, 439.93),\n",
    "                  (99661, 344.19),\n",
    "                  (12129, 129.39)], dtype=mytype)\n",
    "print(stock[1])\n",
    "print(stock[\"productID\"])\n",
    "print(stock[2][\"price\"])\n",
    "print(stock)"
   ]
  },
  {
   "cell_type": "code",
   "execution_count": null,
   "metadata": {},
   "outputs": [],
   "source": []
  }
 ],
 "metadata": {
  "kernelspec": {
   "display_name": "Python 3",
   "language": "python",
   "name": "python3"
  },
  "language_info": {
   "codemirror_mode": {
    "name": "ipython",
    "version": 3
   },
   "file_extension": ".py",
   "mimetype": "text/x-python",
   "name": "python",
   "nbconvert_exporter": "python",
   "pygments_lexer": "ipython3",
   "version": "3.7.0"
  }
 },
 "nbformat": 4,
 "nbformat_minor": 2
}
