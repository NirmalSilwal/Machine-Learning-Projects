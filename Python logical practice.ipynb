{
 "cells": [
  {
   "cell_type": "markdown",
   "metadata": {},
   "source": [
    "## Q1. Accept 10 numbers from the user and calculate their sum. (Do not use array)   "
   ]
  },
  {
   "cell_type": "code",
   "execution_count": 4,
   "metadata": {},
   "outputs": [
    {
     "name": "stdout",
     "output_type": "stream",
     "text": [
      "enter number: 1\n",
      "enter number: 2\n",
      "enter number: 3\n",
      "enter number: 4\n",
      "enter number: 5\n",
      "enter number: 6\n",
      "enter number: 7\n",
      "enter number: 8\n",
      "enter number: 9\n",
      "enter number: 10\n",
      "sum is: 55\n"
     ]
    }
   ],
   "source": [
    "sum=0\n",
    "for i in range(10):\n",
    "    n = int(input('enter number: '))\n",
    "    sum+=n\n",
    "print('sum is:',sum)"
   ]
  },
  {
   "cell_type": "markdown",
   "metadata": {},
   "source": [
    "#### optimised one"
   ]
  },
  {
   "cell_type": "code",
   "execution_count": 6,
   "metadata": {},
   "outputs": [
    {
     "name": "stdout",
     "output_type": "stream",
     "text": [
      "enter number: 1\n",
      "enter number: 2\n",
      "enter number: 3\n",
      "enter number: -3\n",
      "enter number: -2\n",
      "sum is:  1\n"
     ]
    }
   ],
   "source": [
    "sum=0\n",
    "for i in range(5):   #change value in range from 5 to 10\n",
    "    sum+=(int(input('enter number: ')))\n",
    "print('sum is: ',sum)"
   ]
  },
  {
   "cell_type": "markdown",
   "metadata": {},
   "source": [
    "## Q2. Accept a number from the user and find the factorial of the number."
   ]
  },
  {
   "cell_type": "code",
   "execution_count": 10,
   "metadata": {},
   "outputs": [
    {
     "name": "stdout",
     "output_type": "stream",
     "text": [
      "enter number to find factorial: 5\n",
      "factorial of  5 is  120\n"
     ]
    }
   ],
   "source": [
    "n = int(input('enter number to find factorial: '))\n",
    "fact = 1\n",
    "for i in range(n):\n",
    "    fact = fact + fact*i\n",
    "print('factorial of ',n,'is ',fact)"
   ]
  },
  {
   "cell_type": "markdown",
   "metadata": {},
   "source": [
    "#### optimised one"
   ]
  },
  {
   "cell_type": "code",
   "execution_count": 8,
   "metadata": {},
   "outputs": [
    {
     "name": "stdout",
     "output_type": "stream",
     "text": [
      "enter number to find factorial: 5\n",
      "factorial of  5 is  120\n"
     ]
    }
   ],
   "source": [
    "import math\n",
    "n = int(input('enter number to find factorial: '))\n",
    "print('factorial of ',n,'is ', math.factorial(n))"
   ]
  },
  {
   "cell_type": "markdown",
   "metadata": {},
   "source": [
    "## Q3. Accept 10 numbers from the user and count how many are positive, negative or zero."
   ]
  },
  {
   "cell_type": "code",
   "execution_count": 15,
   "metadata": {},
   "outputs": [
    {
     "name": "stdout",
     "output_type": "stream",
     "text": [
      "enter number: 0\n",
      "enter number: 1\n",
      "enter number: -1\n",
      "enter number: 2\n",
      "total number of postive numbers is:  2\n",
      "total number of negative numbers is:  1\n",
      "total number of zeros is:  1\n"
     ]
    }
   ],
   "source": [
    "n=[]\n",
    "pos=[]\n",
    "neg=[]\n",
    "zero=[]\n",
    "for i in range(4):     #change value in range from 4 to 10\n",
    "    n.append(int(input('enter number: ')))\n",
    "for i in n:\n",
    "    if i==0:\n",
    "        zero.append(i)\n",
    "    elif i<0:\n",
    "        neg.append(i)\n",
    "    else:\n",
    "        pos.append(i)\n",
    "print('total number of postive numbers is: ',len(pos))\n",
    "print('total number of negative numbers is: ',len(neg))\n",
    "print('total number of zeros is: ',len(zero))"
   ]
  },
  {
   "cell_type": "markdown",
   "metadata": {},
   "source": [
    "### using lambda expression"
   ]
  },
  {
   "cell_type": "code",
   "execution_count": 20,
   "metadata": {},
   "outputs": [
    {
     "name": "stdout",
     "output_type": "stream",
     "text": [
      "enter number: 0\n",
      "enter number: -1\n",
      "enter number: 2\n",
      "enter number: 03\n",
      "total number of postive numbers is:  2\n",
      "total number of negative numbers is:  1\n",
      "total number of zeros is:  1\n"
     ]
    }
   ],
   "source": [
    "n=[]\n",
    "pos=[]\n",
    "neg=[]\n",
    "zero=[]\n",
    "for i in range(4):     #change value in range from 4 to 10\n",
    "    n.append(int(input('enter number: ')))\n",
    "result = lambda x: zero.append(x) if x==0 else pos.append(x) if x>0 else neg.append(x)\n",
    "for i in n:\n",
    "    result(i)\n",
    "print('total number of postive numbers is: ',len(pos))\n",
    "print('total number of negative numbers is: ',len(neg))\n",
    "print('total number of zeros is: ',len(zero))"
   ]
  },
  {
   "cell_type": "markdown",
   "metadata": {},
   "source": [
    "## Q4. Accept  a number from the user and calculate the sum of digits."
   ]
  },
  {
   "cell_type": "code",
   "execution_count": 38,
   "metadata": {},
   "outputs": [
    {
     "name": "stdout",
     "output_type": "stream",
     "text": [
      "enter number: 2134\n",
      "sum of digits is:  10\n"
     ]
    }
   ],
   "source": [
    "n = input('enter number: ')\n",
    "a = list(n)\n",
    "sum = 0\n",
    "for i in a:\n",
    "    sum = sum + int(i)\n",
    "print('sum of digits is: ',sum)"
   ]
  },
  {
   "cell_type": "markdown",
   "metadata": {},
   "source": [
    "#### optimised one"
   ]
  },
  {
   "cell_type": "code",
   "execution_count": 41,
   "metadata": {},
   "outputs": [
    {
     "name": "stdout",
     "output_type": "stream",
     "text": [
      "enter number: 1230\n",
      "sum of digits is:  6\n"
     ]
    }
   ],
   "source": [
    "n = input('enter number: ')\n",
    "sum = 0\n",
    "for i in list(n):\n",
    "    sum = sum + int(i)\n",
    "print('sum of digits is: ',sum)"
   ]
  },
  {
   "cell_type": "markdown",
   "metadata": {},
   "source": [
    "#### another way"
   ]
  },
  {
   "cell_type": "code",
   "execution_count": 47,
   "metadata": {},
   "outputs": [
    {
     "name": "stdout",
     "output_type": "stream",
     "text": [
      "enter number: 12304\n",
      "sum of digits is:  10\n"
     ]
    }
   ],
   "source": [
    "n = int(input('enter number: '))\n",
    "sum=0\n",
    "while n!=0:       #be VERY CAREFUL HERE! think of 'while condition' very precisely otherwise your code will get infinite and your notebook might crash or may get your system to crash or hang!\n",
    "    n1 = n%10\n",
    "    sum+=n1\n",
    "    n//=10\n",
    "print('sum of digits is: ',sum)    "
   ]
  },
  {
   "cell_type": "markdown",
   "metadata": {},
   "source": [
    "## Q5. Accept a number from the user and reverse it. "
   ]
  },
  {
   "cell_type": "code",
   "execution_count": 53,
   "metadata": {},
   "outputs": [
    {
     "name": "stdout",
     "output_type": "stream",
     "text": [
      "enter number: 1234\n",
      "reverse of 1234 is 4321\n"
     ]
    }
   ],
   "source": [
    "n = input('enter number: ')\n",
    "print('reverse of',int(n),'is', \"\".join(list(n)[::-1]))"
   ]
  },
  {
   "cell_type": "markdown",
   "metadata": {},
   "source": [
    "#### another way"
   ]
  },
  {
   "cell_type": "code",
   "execution_count": null,
   "metadata": {},
   "outputs": [],
   "source": [
    "n = input('enter number: ')\n"
   ]
  }
 ],
 "metadata": {
  "kernelspec": {
   "display_name": "Python 3",
   "language": "python",
   "name": "python3"
  },
  "language_info": {
   "codemirror_mode": {
    "name": "ipython",
    "version": 3
   },
   "file_extension": ".py",
   "mimetype": "text/x-python",
   "name": "python",
   "nbconvert_exporter": "python",
   "pygments_lexer": "ipython3",
   "version": "3.7.0"
  }
 },
 "nbformat": 4,
 "nbformat_minor": 2
}
