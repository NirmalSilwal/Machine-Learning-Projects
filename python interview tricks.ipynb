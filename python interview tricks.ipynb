{
 "cells": [
  {
   "cell_type": "markdown",
   "metadata": {},
   "source": [
    "### merging two sorted list"
   ]
  },
  {
   "cell_type": "code",
   "execution_count": 14,
   "metadata": {},
   "outputs": [
    {
     "data": {
      "text/plain": [
       "[1, 3, 4, 5, 6, 7, 10, 11, 12, 13, 18]"
      ]
     },
     "execution_count": 14,
     "metadata": {},
     "output_type": "execute_result"
    }
   ],
   "source": [
    "a = [3, 4, 6, 10, 11, 18]\n",
    "b = [1, 5, 7, 12, 13, 19, 21]\n",
    "c = []\n",
    "while a and b:\n",
    "    if a[0] < b[0]:\n",
    "        c.append(a.pop(0))\n",
    "    else:\n",
    "        c.append(b.pop(0))\n",
    "c"
   ]
  },
  {
   "cell_type": "code",
   "execution_count": 15,
   "metadata": {},
   "outputs": [
    {
     "data": {
      "text/plain": [
       "[1, 3, 4, 5, 6, 7, 10, 11, 12, 13, 18, 19, 21]"
      ]
     },
     "execution_count": 15,
     "metadata": {},
     "output_type": "execute_result"
    }
   ],
   "source": [
    "a = [3, 4, 6, 10, 11, 18]\n",
    "b = [1, 5, 7, 12, 13, 19, 21]\n",
    "a.extend(b)\n",
    "a.sort()\n",
    "a"
   ]
  },
  {
   "cell_type": "markdown",
   "metadata": {},
   "source": [
    "### Get word frequency"
   ]
  },
  {
   "cell_type": "code",
   "execution_count": 32,
   "metadata": {},
   "outputs": [],
   "source": [
    "ss = \"\"\"I figured it out\n",
    "I figured it out from black and white\n",
    "Seconds and hours\n",
    "Maybe they had to take some time\"\"\""
   ]
  },
  {
   "cell_type": "code",
   "execution_count": 33,
   "metadata": {},
   "outputs": [
    {
     "data": {
      "text/plain": [
       "['I',\n",
       " 'figured',\n",
       " 'it',\n",
       " 'out',\n",
       " 'I',\n",
       " 'figured',\n",
       " 'it',\n",
       " 'out',\n",
       " 'from',\n",
       " 'black',\n",
       " 'and',\n",
       " 'white',\n",
       " 'Seconds',\n",
       " 'and',\n",
       " 'hours',\n",
       " 'Maybe',\n",
       " 'they',\n",
       " 'had',\n",
       " 'to',\n",
       " 'take',\n",
       " 'some',\n",
       " 'time']"
      ]
     },
     "execution_count": 33,
     "metadata": {},
     "output_type": "execute_result"
    }
   ],
   "source": [
    "words=ss.split()\n",
    "words"
   ]
  },
  {
   "cell_type": "code",
   "execution_count": 34,
   "metadata": {},
   "outputs": [
    {
     "data": {
      "text/plain": [
       "{'I': 0,\n",
       " 'figured': 0,\n",
       " 'it': 0,\n",
       " 'out': 0,\n",
       " 'from': 0,\n",
       " 'black': 0,\n",
       " 'and': 0,\n",
       " 'white': 0,\n",
       " 'Seconds': 0,\n",
       " 'hours': 0,\n",
       " 'Maybe': 0,\n",
       " 'they': 0,\n",
       " 'had': 0,\n",
       " 'to': 0,\n",
       " 'take': 0,\n",
       " 'some': 0,\n",
       " 'time': 0}"
      ]
     },
     "execution_count": 34,
     "metadata": {},
     "output_type": "execute_result"
    }
   ],
   "source": [
    "d={}.fromkeys(words,0)\n",
    "d"
   ]
  },
  {
   "cell_type": "code",
   "execution_count": 35,
   "metadata": {},
   "outputs": [
    {
     "data": {
      "text/plain": [
       "{'I': 2,\n",
       " 'figured': 2,\n",
       " 'it': 2,\n",
       " 'out': 2,\n",
       " 'from': 1,\n",
       " 'black': 1,\n",
       " 'and': 2,\n",
       " 'white': 1,\n",
       " 'Seconds': 1,\n",
       " 'hours': 1,\n",
       " 'Maybe': 1,\n",
       " 'they': 1,\n",
       " 'had': 1,\n",
       " 'to': 1,\n",
       " 'take': 1,\n",
       " 'some': 1,\n",
       " 'time': 1}"
      ]
     },
     "execution_count": 35,
     "metadata": {},
     "output_type": "execute_result"
    }
   ],
   "source": [
    "for i in words:\n",
    "    d[i]+=1\n",
    "d"
   ]
  },
  {
   "cell_type": "markdown",
   "metadata": {},
   "source": [
    "converting list to dictionary"
   ]
  },
  {
   "cell_type": "code",
   "execution_count": 36,
   "metadata": {},
   "outputs": [
    {
     "data": {
      "text/plain": [
       "[['I', 2],\n",
       " ['figured', 2],\n",
       " ['it', 2],\n",
       " ['out', 2],\n",
       " ['from', 1],\n",
       " ['black', 1],\n",
       " ['and', 2],\n",
       " ['white', 1],\n",
       " ['Seconds', 1],\n",
       " ['hours', 1],\n",
       " ['Maybe', 1],\n",
       " ['they', 1],\n",
       " ['had', 1],\n",
       " ['to', 1],\n",
       " ['take', 1],\n",
       " ['some', 1],\n",
       " ['time', 1]]"
      ]
     },
     "execution_count": 36,
     "metadata": {},
     "output_type": "execute_result"
    }
   ],
   "source": [
    "lis=[]\n",
    "for k,v in d.items():\n",
    "    lis.append([k,v])\n",
    "lis"
   ]
  },
  {
   "cell_type": "markdown",
   "metadata": {},
   "source": [
    "converting list to tuple"
   ]
  },
  {
   "cell_type": "code",
   "execution_count": 38,
   "metadata": {},
   "outputs": [
    {
     "data": {
      "text/plain": [
       "(['I', 2],\n",
       " ['figured', 2],\n",
       " ['it', 2],\n",
       " ['out', 2],\n",
       " ['from', 1],\n",
       " ['black', 1],\n",
       " ['and', 2],\n",
       " ['white', 1],\n",
       " ['Seconds', 1],\n",
       " ['hours', 1],\n",
       " ['Maybe', 1],\n",
       " ['they', 1],\n",
       " ['had', 1],\n",
       " ['to', 1],\n",
       " ['take', 1],\n",
       " ['some', 1],\n",
       " ['time', 1])"
      ]
     },
     "execution_count": 38,
     "metadata": {},
     "output_type": "execute_result"
    }
   ],
   "source": [
    "tuple(lis)"
   ]
  },
  {
   "cell_type": "code",
   "execution_count": 39,
   "metadata": {},
   "outputs": [
    {
     "data": {
      "text/plain": [
       "'I figured it out\\nI figured it out from black and white\\nSeconds and hours\\nMaybe they had to take some time'"
      ]
     },
     "execution_count": 39,
     "metadata": {},
     "output_type": "execute_result"
    }
   ],
   "source": [
    "ss"
   ]
  },
  {
   "cell_type": "markdown",
   "metadata": {},
   "source": [
    "simple word count"
   ]
  },
  {
   "cell_type": "code",
   "execution_count": 41,
   "metadata": {},
   "outputs": [
    {
     "data": {
      "text/plain": [
       "{'I': 2,\n",
       " 'figured': 2,\n",
       " 'it': 2,\n",
       " 'out': 2,\n",
       " 'from': 1,\n",
       " 'black': 1,\n",
       " 'and': 2,\n",
       " 'white': 1,\n",
       " 'Seconds': 1,\n",
       " 'hours': 1,\n",
       " 'Maybe': 1,\n",
       " 'they': 1,\n",
       " 'had': 1,\n",
       " 'to': 1,\n",
       " 'take': 1,\n",
       " 'some': 1,\n",
       " 'time': 1}"
      ]
     },
     "execution_count": 41,
     "metadata": {},
     "output_type": "execute_result"
    }
   ],
   "source": [
    "d={}\n",
    "for i in ss.split():\n",
    "    d[i]=d.get(i,0)+1\n",
    "d"
   ]
  },
  {
   "cell_type": "code",
   "execution_count": null,
   "metadata": {},
   "outputs": [],
   "source": [
    "d={}.fromkeys()"
   ]
  }
 ],
 "metadata": {
  "kernelspec": {
   "display_name": "Python 3",
   "language": "python",
   "name": "python3"
  },
  "language_info": {
   "codemirror_mode": {
    "name": "ipython",
    "version": 3
   },
   "file_extension": ".py",
   "mimetype": "text/x-python",
   "name": "python",
   "nbconvert_exporter": "python",
   "pygments_lexer": "ipython3",
   "version": "3.7.0"
  }
 },
 "nbformat": 4,
 "nbformat_minor": 2
}
